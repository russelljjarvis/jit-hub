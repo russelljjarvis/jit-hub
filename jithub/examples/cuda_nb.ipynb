{
 "cells": [
  {
   "cell_type": "code",
   "execution_count": 1,
   "metadata": {},
   "outputs": [],
   "source": [
    "import matplotlib.pyplot as plt\n",
    "%matplotlib inline\n",
    "import collections\n",
    "import quantities as pq\n",
    "import numpy as np\n",
    "import time\n",
    "\n",
    "from neuronunit.optimization.optimization_management import inject_and_plot_model,dtc_to_rheo\n",
    "\n",
    "from jithub.models import model_classes\n",
    "import unittest\n",
    "from collections import OrderedDict\n",
    "\n",
    "model = model_classes.ADEXPModel()\n",
    "model.attrs = OrderedDict(model.attrs)"
   ]
  },
  {
   "cell_type": "code",
   "execution_count": 2,
   "metadata": {},
   "outputs": [
    {
     "name": "stdout",
     "output_type": "stream",
     "text": [
      "5.3234833603710285 pA\n"
     ]
    }
   ],
   "source": [
    "#dtc = model.model_to_dtc()\n",
    "\n",
    "model.attrs['dt'] = 0.25\n",
    "\n",
    "model.attrs['cm']=1.8\n",
    "model=dtc_to_rheo(model)\n",
    "print(model.rheobase)\n",
    "amp = model.rheobase\n",
    "ALLEN_DELAY = 1000.0 * pq.ms\n",
    "ALLEN_DURATION = 2000.0 * pq.ms\n",
    "uc = {\n",
    "\"amplitude\": amp,\n",
    "\"duration\": ALLEN_DURATION,\n",
    "\"delay\": ALLEN_DELAY,\n",
    "}\n"
   ]
  },
  {
   "cell_type": "code",
   "execution_count": 3,
   "metadata": {},
   "outputs": [
    {
     "name": "stdout",
     "output_type": "stream",
     "text": [
      "{'cm': 1.8, 'v_spike': -40.0, 'v_reset': -70.6, 'v_rest': -70.6, 'tau_m': 9.3667, 'a': 4.0, 'b': 0.0805, 'delta_T': 2.0, 'tau_w': 144.0, 'v_thresh': -50.4, 'spike_delta': 30, 'dt': 0.25, 'start': 1000.0, 'stop': 3000.0, 'pA': 5.3234833603710285, 'padding': 0.0}\n"
     ]
    }
   ],
   "source": [
    "amplitude=5.3234833603710285 * pq.pA\n",
    "delay=ALLEN_DELAY\n",
    "duration=ALLEN_DURATION\n",
    "padding=0 * pq.ms\n",
    "padding = float(padding)\n",
    "amplitude = float(amplitude.magnitude)\n",
    "duration = float(duration)\n",
    "delay = float(delay)\n",
    "stim = {\"start\": delay, \"stop\": duration + delay, \"pA\": amplitude, \"padding\":padding}\n",
    "model.attrs.update(stim)\n",
    "print(model.attrs)\n",
    "param_vector = [ np.array([ v for v in model.attrs.values()], dtype=np.float32) for i in range(0,10) ]\n",
    "model._backend.vector_attrs = param_vector\n",
    "\n"
   ]
  },
  {
   "cell_type": "code",
   "execution_count": 4,
   "metadata": {},
   "outputs": [
    {
     "name": "stdout",
     "output_type": "stream",
     "text": [
      "[-70.738884 -70.87397  -71.005325 -71.13302  -71.25711  -71.37768\n",
      " -71.494774 -71.60847  -71.718834 -71.82591  -71.92979  -72.03051\n",
      " -72.128136 -72.22273  -72.31435  -72.40305 ]\n",
      "['f->f']\n"
     ]
    }
   ],
   "source": [
    "results = model.inject_square_current_vectorized(param_vector)\n"
   ]
  },
  {
   "cell_type": "code",
   "execution_count": null,
   "metadata": {},
   "outputs": [],
   "source": [
    "len(results)"
   ]
  },
  {
   "cell_type": "code",
   "execution_count": null,
   "metadata": {},
   "outputs": [],
   "source": [
    "import matplotlib.pyplot as plt\n",
    "\n",
    "plt.plot([i for i in range(0,len(results))], [i for i in results])"
   ]
  },
  {
   "cell_type": "code",
   "execution_count": null,
   "metadata": {},
   "outputs": [],
   "source": []
  }
 ],
 "metadata": {
  "kernelspec": {
   "display_name": "Python 3",
   "language": "python",
   "name": "python3"
  },
  "language_info": {
   "codemirror_mode": {
    "name": "ipython",
    "version": 3
   },
   "file_extension": ".py",
   "mimetype": "text/x-python",
   "name": "python",
   "nbconvert_exporter": "python",
   "pygments_lexer": "ipython3",
   "version": "3.7.4"
  }
 },
 "nbformat": 4,
 "nbformat_minor": 2
}
