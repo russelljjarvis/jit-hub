{
 "cells": [
  {
   "cell_type": "code",
   "execution_count": 1,
   "metadata": {},
   "outputs": [],
   "source": [
    "import matplotlib.pyplot as plt\n",
    "%matplotlib inline\n",
    "import collections\n",
    "import quantities as pq\n",
    "import numpy as np\n",
    "import time\n",
    "\n",
    "from neuronunit.optimization.optimization_management import inject_and_plot_model,dtc_to_rheo\n",
    "\n",
    "from jithub.models import model_classes\n",
    "import unittest\n",
    "\n",
    "model = model_classes.ADEXPModel()\n"
   ]
  },
  {
   "cell_type": "code",
   "execution_count": 2,
   "metadata": {},
   "outputs": [
    {
     "name": "stdout",
     "output_type": "stream",
     "text": [
      "5.3234833603710285 pA\n"
     ]
    }
   ],
   "source": [
    "dtc = model.model_to_dtc()\n",
    "\n",
    "\n",
    "dtc.attrs['cm']=1.8\n",
    "dtc=dtc_to_rheo(dtc)\n",
    "print(dtc.rheobase)\n",
    "amp = dtc.rheobase\n",
    "ALLEN_DELAY = 1000.0 * pq.ms\n",
    "ALLEN_DURATION = 2000.0 * pq.ms\n",
    "uc = {\n",
    "\"amplitude\": amp,\n",
    "\"duration\": ALLEN_DURATION,\n",
    "\"delay\": ALLEN_DELAY,\n",
    "}\n"
   ]
  },
  {
   "cell_type": "code",
   "execution_count": 3,
   "metadata": {},
   "outputs": [
    {
     "name": "stdout",
     "output_type": "stream",
     "text": [
      "{'cm': 1.8, 'v_spike': -40.0, 'v_reset': -70.6, 'v_rest': -70.6, 'tau_m': 9.3667, 'a': 4.0, 'b': 0.0805, 'delta_T': 2.0, 'tau_w': 144.0, 'v_thresh': -50.4, 'spike_delta': 30, 'start': 10.0, 'stop': 510.0, 'pA': 100.0}\n"
     ]
    }
   ],
   "source": [
    "amplitude=100 * pq.pA\n",
    "delay=10 * pq.ms\n",
    "duration=500 * pq.ms\n",
    "padding=0 * pq.ms\n",
    "padding = float(padding)\n",
    "amplitude = float(amplitude.magnitude)\n",
    "duration = float(duration)\n",
    "delay = float(delay)\n",
    "stim = {\"start\": delay, \"stop\": duration + delay, \"pA\": amplitude}\n",
    "dtc.attrs.update(stim)\n",
    "print(dtc.attrs)\n",
    "param_vector = [ np.array([ v for v in dtc.attrs.values()]) for i in range(0,10) ]\n",
    "model._backend.vector_attrs = param_vector\n",
    "\n",
    "#eval_model_collection(**uc)\n",
    "#model.inject_square_current_vectorized(**uc)\n"
   ]
  },
  {
   "cell_type": "code",
   "execution_count": 4,
   "metadata": {},
   "outputs": [],
   "source": [
    "results = model._backend.inject_square_current_vectorized(param_vector)\n"
   ]
  },
  {
   "cell_type": "code",
   "execution_count": 5,
   "metadata": {},
   "outputs": [
    {
     "data": {
      "text/plain": [
       "array([[-10065.567,       -inf,       -inf, ...,        nan,        nan,\n",
       "               nan],\n",
       "       [-10065.567,       -inf,       -inf, ...,        nan,        nan,\n",
       "               nan],\n",
       "       [-10065.567,       -inf,       -inf, ...,        nan,        nan,\n",
       "               nan],\n",
       "       ...,\n",
       "       [-10065.567,       -inf,       -inf, ...,        nan,        nan,\n",
       "               nan],\n",
       "       [-10065.567,       -inf,       -inf, ...,        nan,        nan,\n",
       "               nan],\n",
       "       [-10065.567,       -inf,       -inf, ...,        nan,        nan,\n",
       "               nan]], dtype=float32)"
      ]
     },
     "execution_count": 5,
     "metadata": {},
     "output_type": "execute_result"
    }
   ],
   "source": [
    "results"
   ]
  },
  {
   "cell_type": "code",
   "execution_count": null,
   "metadata": {},
   "outputs": [],
   "source": []
  }
 ],
 "metadata": {
  "kernelspec": {
   "display_name": "Python 3",
   "language": "python",
   "name": "python3"
  },
  "language_info": {
   "codemirror_mode": {
    "name": "ipython",
    "version": 3
   },
   "file_extension": ".py",
   "mimetype": "text/x-python",
   "name": "python",
   "nbconvert_exporter": "python",
   "pygments_lexer": "ipython3",
   "version": "3.7.4"
  }
 },
 "nbformat": 4,
 "nbformat_minor": 2
}
