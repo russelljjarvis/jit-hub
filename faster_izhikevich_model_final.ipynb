{
 "cells": [
  {
   "cell_type": "markdown",
   "metadata": {},
   "source": [
    "# This is a reproduction of the MATLAB script 2007.m\n",
    "\n",
    "The code is implemented in pure python. \n",
    "\n",
    "Performance of the model is atypically good as the model utilizes numba Just In Time (C) Compilation."
   ]
  },
  {
   "cell_type": "code",
   "execution_count": 1,
   "metadata": {},
   "outputs": [],
   "source": [
    "import matplotlib.pyplot as plt\n",
    "import collections\n",
    "import quantities as pq\n",
    "import izhikevich as izhi\n",
    "import numpy as np\n",
    "%matplotlib inline\n",
    "from utils import reduced_cells, transform_input, plot_model\n",
    "DELAY = 0*pq.ms\n",
    "DURATION = 250 *pq.ms"
   ]
  },
  {
   "cell_type": "code",
   "execution_count": 2,
   "metadata": {},
   "outputs": [
    {
     "ename": "TypeError",
     "evalue": "plot_model() got an unexpected keyword argument 'timed'",
     "output_type": "error",
     "traceback": [
      "\u001b[0;31m---------------------------------------------------------------------------\u001b[0m",
      "\u001b[0;31mTypeError\u001b[0m                                 Traceback (most recent call last)",
      "\u001b[0;32m<ipython-input-2-151c6d3c7736>\u001b[0m in \u001b[0;36m<module>\u001b[0;34m\u001b[0m\n\u001b[1;32m      5\u001b[0m \u001b[0mparams\u001b[0m\u001b[0;34m[\u001b[0m\u001b[0;34m'duration'\u001b[0m\u001b[0;34m]\u001b[0m \u001b[0;34m=\u001b[0m \u001b[0;36m600\u001b[0m\u001b[0;34m*\u001b[0m\u001b[0mpq\u001b[0m\u001b[0;34m.\u001b[0m\u001b[0mms\u001b[0m\u001b[0;34m\u001b[0m\u001b[0;34m\u001b[0m\u001b[0m\n\u001b[1;32m      6\u001b[0m \u001b[0mfig_title\u001b[0m \u001b[0;34m=\u001b[0m \u001b[0;34m'Layer 5 regular spiking (RS) pyramidal cell (fig 8.12)'\u001b[0m\u001b[0;34m\u001b[0m\u001b[0;34m\u001b[0m\u001b[0m\n\u001b[0;32m----> 7\u001b[0;31m \u001b[0mplot_model\u001b[0m\u001b[0;34m(\u001b[0m\u001b[0mIinRange\u001b[0m\u001b[0;34m,\u001b[0m\u001b[0mreduced_cells\u001b[0m\u001b[0;34m,\u001b[0m\u001b[0mparams\u001b[0m\u001b[0;34m,\u001b[0m\u001b[0mcell_key\u001b[0m\u001b[0;34m=\u001b[0m\u001b[0;34m'RS'\u001b[0m\u001b[0;34m,\u001b[0m\u001b[0mtitle\u001b[0m\u001b[0;34m=\u001b[0m\u001b[0mfig_title\u001b[0m\u001b[0;34m,\u001b[0m\u001b[0mtimed\u001b[0m\u001b[0;34m=\u001b[0m\u001b[0;32mTrue\u001b[0m\u001b[0;34m)\u001b[0m\u001b[0;34m\u001b[0m\u001b[0;34m\u001b[0m\u001b[0m\n\u001b[0m",
      "\u001b[0;31mTypeError\u001b[0m: plot_model() got an unexpected keyword argument 'timed'"
     ]
    }
   ],
   "source": [
    "IinRange = [60,70,85,100];\n",
    "params = {}\n",
    "params['amplitude'] = 500*pq.pA\n",
    "params['delay'] = DELAY\n",
    "params['duration'] = 600*pq.ms\n",
    "fig_title = 'Layer 5 regular spiking (RS) pyramidal cell (fig 8.12)'\n",
    "plot_model(IinRange,reduced_cells,params,cell_key='RS',title=fig_title,timed=True)"
   ]
  },
  {
   "cell_type": "code",
   "execution_count": null,
   "metadata": {},
   "outputs": [],
   "source": [
    "IinRange = [290,370,500,550];\n",
    "params = {}\n",
    "params['delay'] = DELAY\n",
    "params['duration'] = 600*pq.ms\n",
    "fig_title = 'Layer 5 intrinsic bursting (IB) pyramidal cell (fig 8.19)'\n",
    "plot_model(IinRange,reduced_cells,params,cell_key='IB',title=fig_title)"
   ]
  },
  {
   "cell_type": "code",
   "execution_count": null,
   "metadata": {},
   "outputs": [],
   "source": [
    "IinRange = [200,300,400,600];\n",
    "params = {}\n",
    "params['delay'] = DELAY\n",
    "params['duration'] = 210*pq.ms\n",
    "figtitle='Cortical chattering (CH) cell  (fig 8.23)'\n",
    "plot_model(IinRange,reduced_cells,params,cell_key='CH',title=figtitle)"
   ]
  },
  {
   "cell_type": "code",
   "execution_count": null,
   "metadata": {},
   "outputs": [],
   "source": [
    "IinRange = [100,125,200,300];\n",
    "params = {}\n",
    "params['delay'] = DELAY\n",
    "T=320;\n",
    "figtitle = 'Low-threshold spiking (LTS) interneuron (fig 8.25)';\n",
    "params['duration'] = T*pq.ms\n",
    "plot_model(IinRange,reduced_cells,params,cell_key='LTS',title=figtitle)"
   ]
  },
  {
   "cell_type": "code",
   "execution_count": null,
   "metadata": {},
   "outputs": [],
   "source": [
    "T=100;\n",
    "params['duration'] = T*pq.ms\n",
    "IinRange = [73.2,100,200,400];\n",
    "figtitle = 'Fast-spiking (FS) interneuron (fig 8.27) ';\n",
    "plot_model(IinRange,reduced_cells,params,cell_key='FS',title=figtitle)\n",
    "    "
   ]
  },
  {
   "cell_type": "markdown",
   "metadata": {},
   "source": [
    "# Bursting"
   ]
  },
  {
   "cell_type": "code",
   "execution_count": null,
   "metadata": {},
   "outputs": [],
   "source": [
    "figtitle = 'Thalamocortical (TC) cell (fig 8.31) ';\n",
    "Iin0 = -1200; #% required to lower Vrmp to -80mV for 120 ms\n",
    "IinRange = [0,50,100];\n",
    "T=650;\n",
    "params['duration'] = T*pq.ms\n",
    "IinRange = transform_input(T,IinRange,Iin0,burstMode=True)\n",
    "plot_model(IinRange,reduced_cells,params,cell_key='TC',title=figtitle,direct=True)"
   ]
  },
  {
   "cell_type": "code",
   "execution_count": null,
   "metadata": {},
   "outputs": [],
   "source": [
    "Iin0 = -350;\n",
    "IinRange = [30,50,90];\n",
    "IinRange = transform_input(T,IinRange,Iin0,burstMode=True)\n",
    "T=650;\n",
    "figtitle = 'Reticular thalamic nucleus (RTN) cell (fig 8.32)';\n",
    "plot_model(IinRange,reduced_cells,params,cell_key='RTN',title=figtitle,direct=True)"
   ]
  }
 ],
 "metadata": {
  "kernelspec": {
   "display_name": "Python 3",
   "language": "python",
   "name": "python3"
  },
  "language_info": {
   "codemirror_mode": {
    "name": "ipython",
    "version": 3
   },
   "file_extension": ".py",
   "mimetype": "text/x-python",
   "name": "python",
   "nbconvert_exporter": "python",
   "pygments_lexer": "ipython3",
   "version": "3.7.4"
  }
 },
 "nbformat": 4,
 "nbformat_minor": 2
}
